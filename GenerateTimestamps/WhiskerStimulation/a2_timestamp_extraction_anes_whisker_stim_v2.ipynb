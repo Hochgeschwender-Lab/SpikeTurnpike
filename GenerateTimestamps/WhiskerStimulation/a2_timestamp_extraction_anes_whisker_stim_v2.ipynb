{
 "cells": [
  {
   "cell_type": "code",
   "execution_count": 1,
   "id": "9d13afd0",
   "metadata": {},
   "outputs": [],
   "source": [
    "'''\n",
    "Import the necessary libraries:\n",
    "os: to work with file directories\n",
    "numpy: to work with arrays\n",
    "pylab:\n",
    "glob: to find for particular files\n",
    "scipy.io: to load and save .mat files\n",
    "data_import: to access the .txt data\n",
    "rsync: to align the data\n",
    "'''\n",
    "\n",
    "import os\n",
    "import numpy as np\n",
    "# import pylab as plt\n",
    "import glob as glob\n",
    "from scipy.io import loadmat, savemat\n",
    "import data_import as di\n",
    "from rsync import Rsync_aligner\n",
    "from tkinter import *\n",
    "from tkinter import filedialog"
   ]
  },
  {
   "cell_type": "code",
   "execution_count": 2,
   "id": "49e4bc26",
   "metadata": {},
   "outputs": [],
   "source": [
    "# Define the samping frequency\n",
    "sampling_frequency = 30e3"
   ]
  },
  {
   "cell_type": "code",
   "execution_count": 3,
   "id": "c1c5723c",
   "metadata": {},
   "outputs": [],
   "source": [
    "# Define a function to\n",
    "directory_object = Tk()\n",
    "directory_object.withdraw()\n",
    "project_file_directory = filedialog.askdirectory()"
   ]
  },
  {
   "cell_type": "code",
   "execution_count": 4,
   "id": "136e61ec",
   "metadata": {},
   "outputs": [],
   "source": [
    "project_file_directory\n",
    "project_file_directory = os.path.join(project_file_directory,'SpikeStuff')"
   ]
  },
  {
   "cell_type": "code",
   "execution_count": 5,
   "id": "ab665add",
   "metadata": {},
   "outputs": [
    {
     "data": {
      "text/plain": [
       "'/home/cresp1el-local/Documents/MATLAB/SfN_Emx/Whisker/SpikeStuff'"
      ]
     },
     "execution_count": 5,
     "metadata": {},
     "output_type": "execute_result"
    }
   ],
   "source": [
    "project_file_directory"
   ]
  },
  {
   "cell_type": "code",
   "execution_count": 6,
   "id": "2f2f79e9",
   "metadata": {},
   "outputs": [
    {
     "data": {
      "text/plain": [
       "'/home/cresp1el-local/Documents/MATLAB/Spikes_Pipeline_v2/1. Timestamp Extraction/Whisker Stimulation'"
      ]
     },
     "execution_count": 6,
     "metadata": {},
     "output_type": "execute_result"
    }
   ],
   "source": [
    "pwd"
   ]
  },
  {
   "cell_type": "code",
   "execution_count": 7,
   "id": "8cf02287",
   "metadata": {},
   "outputs": [
    {
     "name": "stdout",
     "output_type": "stream",
     "text": [
      "There are a total of 2 groups. Remember that python uses zero indexing\n"
     ]
    }
   ],
   "source": [
    "all_folders_names = next(os.walk(project_file_directory))[1]\n",
    "print('There are a total of', (len(all_folders_names)), 'groups. Remember that python uses zero indexing')"
   ]
  },
  {
   "cell_type": "code",
   "execution_count": 8,
   "id": "c6034cbc",
   "metadata": {},
   "outputs": [],
   "source": [
    "def check_if_directory_exists(directory_fun):\n",
    "    if not os.path.isdir(directory_fun):\n",
    "        os.mkdir(directory_fun)"
   ]
  },
  {
   "cell_type": "code",
   "execution_count": 9,
   "id": "f9f6affc",
   "metadata": {},
   "outputs": [
    {
     "name": "stdout",
     "output_type": "stream",
     "text": [
      "Loading group index value 0 with file name: CTZ\n",
      "There are 10 recordings in CTZ\n",
      "Extracting data from file path: /home/cresp1el-local/Documents/MATLAB/SfN_Emx/Whisker/SpikeStuff/CTZ/ctz_2303_1/ctz_2303_emx_whiskerstim-2023-02-04-140323.txt\n",
      "Importing data file: ctz_2303_emx_whiskerstim-2023-02-04-140323.txt\n",
      "Extracting from /home/cresp1el-local/Documents/MATLAB/SfN_Emx/Whisker/SpikeStuff/CTZ/ctz_2303_1/MUA/allData/timestamp_ms_nev.mat\n",
      "ctz_2303_1: Rsync_PC and timestamp_ms_nev shapes are fine!\n",
      "Rsync has 3916 elements and timestamp_ms_nev has 3916 elements.\n",
      "Extracting data from file path: /home/cresp1el-local/Documents/MATLAB/SfN_Emx/Whisker/SpikeStuff/CTZ/ctz_2303_2/ctz_2303_emx_whisker2-2023-02-04-174802.txt\n",
      "Importing data file: ctz_2303_emx_whisker2-2023-02-04-174802.txt\n",
      "Extracting from /home/cresp1el-local/Documents/MATLAB/SfN_Emx/Whisker/SpikeStuff/CTZ/ctz_2303_2/MUA/allData/timestamp_ms_nev.mat\n",
      "ctz_2303_2: Rsync_PC and timestamp_ms_nev shapes are fine!\n",
      "Rsync has 3913 elements and timestamp_ms_nev has 3913 elements.\n",
      "Extracting data from file path: /home/cresp1el-local/Documents/MATLAB/SfN_Emx/Whisker/SpikeStuff/CTZ/ctz_2874_1/ctz_2874_emx_whisker-2022-11-04-121222.txt\n",
      "Importing data file: ctz_2874_emx_whisker-2022-11-04-121222.txt\n",
      "Extracting from /home/cresp1el-local/Documents/MATLAB/SfN_Emx/Whisker/SpikeStuff/CTZ/ctz_2874_1/MUA/allData/timestamp_ms_nev.mat\n",
      "ctz_2874_1: Rsync_PC and timestamp_ms_nev shapes are fine!\n",
      "Rsync has 3896 elements and timestamp_ms_nev has 3896 elements.\n",
      "Extracting data from file path: /home/cresp1el-local/Documents/MATLAB/SfN_Emx/Whisker/SpikeStuff/CTZ/ctz_2874_2/ctz_2874_emx_whisker_rec2-2022-11-04-170925.txt\n",
      "Importing data file: ctz_2874_emx_whisker_rec2-2022-11-04-170925.txt\n",
      "Extracting from /home/cresp1el-local/Documents/MATLAB/SfN_Emx/Whisker/SpikeStuff/CTZ/ctz_2874_2/MUA/allData/timestamp_ms_nev.mat\n",
      "ctz_2874_2: Rsync_PC and timestamp_ms_nev shapes are fine!\n",
      "Rsync has 3895 elements and timestamp_ms_nev has 3895 elements.\n",
      "Extracting data from file path: /home/cresp1el-local/Documents/MATLAB/SfN_Emx/Whisker/SpikeStuff/CTZ/ctz_3835/ctz_3835_whisker-2022-10-25-155432.txt\n",
      "Importing data file: ctz_3835_whisker-2022-10-25-155432.txt\n",
      "Extracting from /home/cresp1el-local/Documents/MATLAB/SfN_Emx/Whisker/SpikeStuff/CTZ/ctz_3835/MUA/allData/timestamp_ms_nev.mat\n",
      "ctz_3835: Rsync_PC and timestamp_ms_nev shapes are fine!\n",
      "Rsync has 3837 elements and timestamp_ms_nev has 3837 elements.\n",
      "Extracting data from file path: /home/cresp1el-local/Documents/MATLAB/SfN_Emx/Whisker/SpikeStuff/CTZ/ctz_3836/ctz_3836_whisker-2022-10-24-161300.txt\n",
      "Importing data file: ctz_3836_whisker-2022-10-24-161300.txt\n",
      "Extracting from /home/cresp1el-local/Documents/MATLAB/SfN_Emx/Whisker/SpikeStuff/CTZ/ctz_3836/MUA/allData/timestamp_ms_nev.mat\n",
      "ctz_3836: Rsync_PC and timestamp_ms_nev shapes are fine!\n",
      "Rsync has 3976 elements and timestamp_ms_nev has 3976 elements.\n",
      "Extracting data from file path: /home/cresp1el-local/Documents/MATLAB/SfN_Emx/Whisker/SpikeStuff/CTZ/ctz_3942_1/ctz_3942_emx_whisker-2023-01-19-151709.txt\n",
      "Importing data file: ctz_3942_emx_whisker-2023-01-19-151709.txt\n",
      "Extracting from /home/cresp1el-local/Documents/MATLAB/SfN_Emx/Whisker/SpikeStuff/CTZ/ctz_3942_1/MUA/allData/timestamp_ms_nev.mat\n",
      "ctz_3942_1: Rsync_PC and timestamp_ms_nev shapes are fine!\n",
      "Rsync has 3904 elements and timestamp_ms_nev has 3904 elements.\n",
      "Extracting data from file path: /home/cresp1el-local/Documents/MATLAB/SfN_Emx/Whisker/SpikeStuff/CTZ/ctz_3942_2/ctz_3942_emx_whisker2-2023-01-19-190547.txt\n",
      "Importing data file: ctz_3942_emx_whisker2-2023-01-19-190547.txt\n",
      "Extracting from /home/cresp1el-local/Documents/MATLAB/SfN_Emx/Whisker/SpikeStuff/CTZ/ctz_3942_2/MUA/allData/timestamp_ms_nev.mat\n",
      "ctz_3942_2: Rsync_PC and timestamp_ms_nev shapes are fine!\n",
      "Rsync has 3878 elements and timestamp_ms_nev has 3878 elements.\n",
      "Extracting data from file path: /home/cresp1el-local/Documents/MATLAB/SfN_Emx/Whisker/SpikeStuff/CTZ/ctz_3960/ctz_3960_emx_whisker-2022-11-15-173445.txt\n",
      "Importing data file: ctz_3960_emx_whisker-2022-11-15-173445.txt\n",
      "Extracting from /home/cresp1el-local/Documents/MATLAB/SfN_Emx/Whisker/SpikeStuff/CTZ/ctz_3960/MUA/allData/timestamp_ms_nev.mat\n",
      "ctz_3960: Rsync_PC and timestamp_ms_nev shapes are fine!\n",
      "Rsync has 3928 elements and timestamp_ms_nev has 3928 elements.\n",
      "Extracting data from file path: /home/cresp1el-local/Documents/MATLAB/SfN_Emx/Whisker/SpikeStuff/CTZ/ctz_alt1/ctz_alt1_emx_whisker-2022-11-17-143345.txt\n",
      "Importing data file: ctz_alt1_emx_whisker-2022-11-17-143345.txt\n",
      "Extracting from /home/cresp1el-local/Documents/MATLAB/SfN_Emx/Whisker/SpikeStuff/CTZ/ctz_alt1/MUA/allData/timestamp_ms_nev.mat\n",
      "ctz_alt1: Rsync_PC and timestamp_ms_nev shapes are fine!\n",
      "Rsync has 3906 elements and timestamp_ms_nev has 3906 elements.\n",
      "-------------------------------------------------------------------------------------------------------\n",
      "Loading group index value 1 with file name: No_CTZ\n",
      "There are 9 recordings in No_CTZ\n",
      "Extracting data from file path: /home/cresp1el-local/Documents/MATLAB/SfN_Emx/Whisker/SpikeStuff/No_CTZ/veh_3062_1/veh_3602_emx_whisker-2022-11-01-125752.txt\n",
      "Importing data file: veh_3602_emx_whisker-2022-11-01-125752.txt\n",
      "Extracting from /home/cresp1el-local/Documents/MATLAB/SfN_Emx/Whisker/SpikeStuff/No_CTZ/veh_3062_1/MUA/allData/timestamp_ms_nev.mat\n",
      "veh_3062_1: Rsync_PC and timestamp_ms_nev shapes are fine!\n",
      "Rsync has 3885 elements and timestamp_ms_nev has 3885 elements.\n",
      "Extracting data from file path: /home/cresp1el-local/Documents/MATLAB/SfN_Emx/Whisker/SpikeStuff/No_CTZ/veh_3062_2/veh_3602_emx_whisker_rec2-2022-11-01-163651.txt\n",
      "Importing data file: veh_3602_emx_whisker_rec2-2022-11-01-163651.txt\n",
      "Extracting from /home/cresp1el-local/Documents/MATLAB/SfN_Emx/Whisker/SpikeStuff/No_CTZ/veh_3062_2/MUA/allData/timestamp_ms_nev.mat\n",
      "veh_3062_2: Rsync_PC and timestamp_ms_nev shapes are fine!\n",
      "Rsync has 3806 elements and timestamp_ms_nev has 3806 elements.\n",
      "Extracting data from file path: /home/cresp1el-local/Documents/MATLAB/SfN_Emx/Whisker/SpikeStuff/No_CTZ/veh_3062_3/veh_3602_emx_whisker_rec3-2022-11-01-201914.txt\n",
      "Importing data file: veh_3602_emx_whisker_rec3-2022-11-01-201914.txt\n",
      "Extracting from /home/cresp1el-local/Documents/MATLAB/SfN_Emx/Whisker/SpikeStuff/No_CTZ/veh_3062_3/MUA/allData/timestamp_ms_nev.mat\n",
      "veh_3062_3: Rsync_PC and timestamp_ms_nev shapes are fine!\n",
      "Rsync has 3793 elements and timestamp_ms_nev has 3793 elements.\n",
      "Extracting data from file path: /home/cresp1el-local/Documents/MATLAB/SfN_Emx/Whisker/SpikeStuff/No_CTZ/veh_3141_1/veh_3141_emx_whisker-2023-01-27-150208.txt\n",
      "Importing data file: veh_3141_emx_whisker-2023-01-27-150208.txt\n",
      "Extracting from /home/cresp1el-local/Documents/MATLAB/SfN_Emx/Whisker/SpikeStuff/No_CTZ/veh_3141_1/MUA/allData/timestamp_ms_nev.mat\n",
      "veh_3141_1: Rsync_PC and timestamp_ms_nev shapes are fine!\n",
      "Rsync has 3881 elements and timestamp_ms_nev has 3881 elements.\n",
      "Extracting data from file path: /home/cresp1el-local/Documents/MATLAB/SfN_Emx/Whisker/SpikeStuff/No_CTZ/veh_3141_2/veh_3141_emx_whisker2-2023-01-27-184418.txt\n",
      "Importing data file: veh_3141_emx_whisker2-2023-01-27-184418.txt\n",
      "Extracting from /home/cresp1el-local/Documents/MATLAB/SfN_Emx/Whisker/SpikeStuff/No_CTZ/veh_3141_2/MUA/allData/timestamp_ms_nev.mat\n",
      "veh_3141_2: Rsync_PC and timestamp_ms_nev shapes are fine!\n",
      "Rsync has 3862 elements and timestamp_ms_nev has 3862 elements.\n",
      "Extracting data from file path: /home/cresp1el-local/Documents/MATLAB/SfN_Emx/Whisker/SpikeStuff/No_CTZ/veh_3142_1/veh_3142_emx_whisker-2023-01-31-144833.txt\n",
      "Importing data file: veh_3142_emx_whisker-2023-01-31-144833.txt\n",
      "Extracting from /home/cresp1el-local/Documents/MATLAB/SfN_Emx/Whisker/SpikeStuff/No_CTZ/veh_3142_1/MUA/allData/timestamp_ms_nev.mat\n",
      "veh_3142_1: Rsync_PC and timestamp_ms_nev shapes are fine!\n",
      "Rsync has 3888 elements and timestamp_ms_nev has 3888 elements.\n",
      "Extracting data from file path: /home/cresp1el-local/Documents/MATLAB/SfN_Emx/Whisker/SpikeStuff/No_CTZ/veh_3142_2/veh_3142_emx_whisker2-2023-01-31-182143.txt\n",
      "Importing data file: veh_3142_emx_whisker2-2023-01-31-182143.txt\n",
      "Extracting from /home/cresp1el-local/Documents/MATLAB/SfN_Emx/Whisker/SpikeStuff/No_CTZ/veh_3142_2/MUA/allData/timestamp_ms_nev.mat\n"
     ]
    },
    {
     "name": "stdout",
     "output_type": "stream",
     "text": [
      "veh_3142_2: Rsync_PC and timestamp_ms_nev shapes are fine!\n",
      "Rsync has 3868 elements and timestamp_ms_nev has 3868 elements.\n",
      "Extracting data from file path: /home/cresp1el-local/Documents/MATLAB/SfN_Emx/Whisker/SpikeStuff/No_CTZ/veh_3143_1/veh_3143_emx_whisker-2023-01-24-182303.txt\n",
      "Importing data file: veh_3143_emx_whisker-2023-01-24-182303.txt\n",
      "Extracting from /home/cresp1el-local/Documents/MATLAB/SfN_Emx/Whisker/SpikeStuff/No_CTZ/veh_3143_1/MUA/allData/timestamp_ms_nev.mat\n",
      "veh_3143_1: Rsync_PC and timestamp_ms_nev shapes are fine!\n",
      "Rsync has 3907 elements and timestamp_ms_nev has 3907 elements.\n",
      "Extracting data from file path: /home/cresp1el-local/Documents/MATLAB/SfN_Emx/Whisker/SpikeStuff/No_CTZ/veh_3143_2/veh_3143_emx_whiskstim2-2023-01-24-223926.txt\n",
      "Importing data file: veh_3143_emx_whiskstim2-2023-01-24-223926.txt\n",
      "Extracting from /home/cresp1el-local/Documents/MATLAB/SfN_Emx/Whisker/SpikeStuff/No_CTZ/veh_3143_2/MUA/allData/timestamp_ms_nev.mat\n",
      "veh_3143_2: Rsync_PC and timestamp_ms_nev shapes are fine!\n",
      "Rsync has 3908 elements and timestamp_ms_nev has 3908 elements.\n",
      "-------------------------------------------------------------------------------------------------------\n"
     ]
    },
    {
     "data": {
      "image/png": "[encoded data removed]",
      "text/plain": [
       "<Figure size 504x648 with 3 Axes>"
      ]
     },
     "metadata": {
      "needs_background": "light"
     },
     "output_type": "display_data"
    }
   ],
   "source": [
    "for n_group in range(len(all_folders_names)): #iterate across groups \n",
    "    \n",
    "    print('Loading group index value', n_group, 'with file name:', all_folders_names[n_group])\n",
    "\n",
    "    groupDir = project_file_directory + \"/\" + all_folders_names[n_group]\n",
    "    numRecording = len(next(os.walk(groupDir))[1])\n",
    "    all_rec_names = next(os.walk(groupDir))[1]   \n",
    "    \n",
    "    print('There are', numRecording, 'recordings in', all_folders_names[n_group])\n",
    "    \n",
    "    for n_rec in range(len(all_rec_names)): #iterate across recordings within a group\n",
    "        \n",
    "        this_recording = groupDir + \"/\" + all_rec_names[n_rec] #directory path of recording \n",
    "        \n",
    "        find_for_txt_file = this_recording + \"/*.txt\"\n",
    "        txt_file_full_path = glob.glob(find_for_txt_file) \n",
    "        txt_file_full_path = ''.join(txt_file_full_path) #convert list into a string \n",
    "        \n",
    "        print(\"Extracting data from file path: %s\" % txt_file_full_path)\n",
    "        \n",
    "        file_directory_to_save_data = this_recording + \"/MUA/allData/\"\n",
    "        \n",
    "        PC_data = di.Session(txt_file_full_path, int_subject_IDs=False)\n",
    "        \n",
    "        session_events= PC_data.events\n",
    "        session_times = PC_data.times\n",
    "        session_print_lines = PC_data.print_lines\n",
    "        \n",
    "        savemat(file_directory_to_save_data + \"session_events.mat\", {\"data\": session_events})\n",
    "        savemat(file_directory_to_save_data + \"session_times.mat\", {\"data\": session_times})\n",
    "        savemat(file_directory_to_save_data + \"session_print_lines.mat\", {\"data\": session_print_lines})\n",
    "        \n",
    "        # Extract data from \".txt\" file\n",
    "        rsync_PC = PC_data.times[\"rsync\"]\n",
    "        stim_active_PC = PC_data.times[\"stim_active\"]\n",
    "        \n",
    "        # Extract data from the \".nev\" saved as a \".mat\" file\n",
    "        \n",
    "        timestamp_nev_file_directory = this_recording + \"/MUA/allData/timestamp_ms_nev.mat\"\n",
    "        \n",
    "        print(\"Extracting from %s\" %timestamp_nev_file_directory)\n",
    "        timestamp_ms_dict = loadmat(timestamp_nev_file_directory)\n",
    "        \n",
    "        timestamp_ms_nev = timestamp_ms_dict[\"timestamp_ms\"][0]\n",
    "        \n",
    "        timestamp_ms_nev = np.reshape(timestamp_ms_nev, (len(timestamp_ms_nev), ))\n",
    "        \n",
    "        if len(rsync_PC) == len(timestamp_ms_nev)/2:\n",
    "            timestamp_ms_nev = timestamp_ms_nev[0::2]\n",
    "        \n",
    "        pulse_times_PC = rsync_PC\n",
    "        pulse_timestamps_BR = timestamp_ms_nev\n",
    "        \n",
    "        try:\n",
    "            ephys_aligner = Rsync_aligner(pulse_times_A=pulse_times_PC, pulse_times_B=pulse_timestamps_BR,\n",
    "                                            units_A=\"auto\", units_B=\"auto\", plot=True)\n",
    "            \n",
    "            print(\"%s: Rsync_PC and timestamp_ms_nev shapes are fine!\" %all_rec_names[n_rec])\n",
    "            print(\"Rsync has %d elements and timestamp_ms_nev has %d elements.\" \n",
    "                  %(len(rsync_PC), len(timestamp_ms_nev)))\n",
    "            \n",
    "        except:\n",
    "            print(\"!!!!!!!!!!!!!!!!!!!!!!!!!!!!!!!!!!!!!!!!!!!!!!!!!!!!!!!!!!!!\")\n",
    "            print(\"%s: Check rsync_PC and timestamp_ms_nev shapes!\" %all_rec_names[n_rec])\n",
    "            print(\"Rsync has %d elements and timestamp_ms_nev has %d elements.\" \n",
    "                  %(len(rsync_PC), len(timestamp_ms_nev)))\n",
    "            print(\"!!!!!!!!!!!!!!!!!!!!!!!!!!!!!!!!!!!!!!!!!!!!!!!!!!!!!!!!!!!!\")\n",
    "            \n",
    "        num_trials = len(stim_active_PC)\n",
    "        reward_times = PC_data.times['stim_active'][:num_trials]\n",
    "        onsets = ephys_aligner.A_to_B(reward_times).astype(int)\n",
    "        \n",
    "        reward_times = PC_data.times['post_stim_wait'][:num_trials]\n",
    "        offsets = ephys_aligner.A_to_B(reward_times).astype(int)\n",
    "        \n",
    "        if onsets[0] > offsets[0]:\n",
    "            modified_onsets = onsets[:-1]\n",
    "            modified_offsets = offsets[1:]\n",
    "        \n",
    "            all_timestamp_ms = np.zeros((len(modified_onsets), 3))\n",
    "\n",
    "            all_timestamp_ms[:, 0] = modified_onsets # ms\n",
    "            all_timestamp_ms[:, 1] = modified_offsets # ms\n",
    "            \n",
    "        else:\n",
    "            all_timestamp_ms = np.zeros((len(onsets), 3))\n",
    "\n",
    "            all_timestamp_ms[:, 0] = onsets # ms\n",
    "            all_timestamp_ms[:, 1] = offsets # ms\n",
    "                \n",
    "        \n",
    "        savemat(file_directory_to_save_data + 'without_stimulation_intensity_timestamp_ms.mat', {'data': all_timestamp_ms})\n",
    "            \n",
    "    print(\"-------------------------------------------------------------------------------------------------------\")\n",
    "\n",
    "        "
   ]
  },
  {
   "cell_type": "code",
   "execution_count": null,
   "id": "0cee2de7",
   "metadata": {},
   "outputs": [],
   "source": []
  },
  {
   "cell_type": "code",
   "execution_count": null,
   "id": "37fe5b26",
   "metadata": {},
   "outputs": [],
   "source": []
  },
  {
   "cell_type": "code",
   "execution_count": null,
   "id": "21bf2eaa",
   "metadata": {},
   "outputs": [],
   "source": []
  },
  {
   "cell_type": "code",
   "execution_count": null,
   "id": "77654544",
   "metadata": {},
   "outputs": [],
   "source": []
  },
  {
   "cell_type": "code",
   "execution_count": null,
   "id": "72b85eaf",
   "metadata": {},
   "outputs": [],
   "source": []
  }
 ],
 "metadata": {
  "kernelspec": {
   "display_name": "Python 3 (ipykernel)",
   "language": "python",
   "name": "python3"
  },
  "language_info": {
   "codemirror_mode": {
    "name": "ipython",
    "version": 3
   },
   "file_extension": ".py",
   "mimetype": "text/x-python",
   "name": "python",
   "nbconvert_exporter": "python",
   "pygments_lexer": "ipython3",
   "version": "3.9.7"
  }
 },
 "nbformat": 4,
 "nbformat_minor": 5
}
