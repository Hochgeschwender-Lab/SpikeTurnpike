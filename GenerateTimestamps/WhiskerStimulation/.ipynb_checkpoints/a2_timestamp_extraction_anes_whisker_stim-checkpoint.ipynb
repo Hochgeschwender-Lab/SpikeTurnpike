{
 "cells": [
  {
   "cell_type": "code",
   "execution_count": 1,
   "id": "9d13afd0",
   "metadata": {},
   "outputs": [],
   "source": [
    "'''\n",
    "Import the necessary libraries:\n",
    "os: to work with file directories\n",
    "numpy: to work with arrays\n",
    "pylab:\n",
    "glob: to find for particular files\n",
    "scipy.io: to load and save .mat files\n",
    "data_import: to access the .txt data\n",
    "rsync: to align the data\n",
    "'''\n",
    "\n",
    "import os\n",
    "import numpy as np\n",
    "# import pylab as plt\n",
    "import glob as glob\n",
    "from scipy.io import loadmat, savemat\n",
    "import data_import as di\n",
    "from rsync import Rsync_aligner\n",
    "from tkinter import *\n",
    "from tkinter import filedialog"
   ]
  },
  {
   "cell_type": "code",
   "execution_count": 2,
   "id": "49e4bc26",
   "metadata": {},
   "outputs": [],
   "source": [
    "# Define the samping frequency\n",
    "sampling_frequency = 30e3"
   ]
  },
  {
   "cell_type": "code",
   "execution_count": 3,
   "id": "c1c5723c",
   "metadata": {},
   "outputs": [],
   "source": [
    "# Define a function to\n",
    "directory_object = Tk()\n",
    "directory_object.withdraw()\n",
    "project_file_directory = filedialog.askdirectory()"
   ]
  },
  {
   "cell_type": "code",
   "execution_count": 4,
   "id": "136e61ec",
   "metadata": {},
   "outputs": [
    {
     "data": {
      "text/plain": [
       "'/home/cresp1el-local/Documents/MATLAB/SfN_Emx_part2/LED/InputData'"
      ]
     },
     "execution_count": 4,
     "metadata": {},
     "output_type": "execute_result"
    }
   ],
   "source": [
    "project_file_directory\n",
    "project_file_directory = os.path.join(project_file_directory,'SpikeStuff')"
   ]
  },
  {
   "cell_type": "code",
   "execution_count": 5,
   "id": "2f2f79e9",
   "metadata": {},
   "outputs": [],
   "source": [
    "all_folders_names = next(os.walk(project_file_directory))[1]"
   ]
  },
  {
   "cell_type": "code",
   "execution_count": 6,
   "id": "8cf02287",
   "metadata": {},
   "outputs": [],
   "source": [
    "def check_if_directory_exists(directory_fun):\n",
    "    if not os.path.isdir(directory_fun):\n",
    "        os.mkdir(directory_fun)"
   ]
  },
  {
   "cell_type": "code",
   "execution_count": 8,
   "id": "21bf2eaa",
   "metadata": {},
   "outputs": [
    {
     "name": "stdout",
     "output_type": "stream",
     "text": [
      "/home/cresp1el-local/Documents/MATLAB/SfN_Emx_part2/LED/InputData/CTZ\n",
      "There are 2 number of .txt files to extract data from CTZ folder.\n",
      "\n",
      "Extracting data from file path: /home/cresp1el-local/Documents/MATLAB/SfN_Emx_part2/LED/InputData/CTZ/ctz_3960_emx_optostim-2022-11-15-201142.txt\n",
      "Importing data file: ctz_3960_emx_optostim-2022-11-15-201142.txt\n",
      "Extracting from /home/cresp1el-local/Documents/MATLAB/SfN_Emx_part2/LED/InputData/CTZ/MUA/ctz_3960_emx_optostim/allData/timestamp_ms_nev.mat\n",
      "ctz_3960_emx_optostim: Rsync_PC and timestamp_ms_nev shapes are fine!\n",
      "Rsync has 189 elements and timestamp_ms_nev has 189 elements.\n"
     ]
    },
    {
     "ename": "KeyError",
     "evalue": "'post_stim_wait'",
     "output_type": "error",
     "traceback": [
      "\u001b[0;31m---------------------------------------------------------------------------\u001b[0m",
      "\u001b[0;31mKeyError\u001b[0m                                  Traceback (most recent call last)",
      "\u001b[0;32m/tmp/ipykernel_1423039/2793585562.py\u001b[0m in \u001b[0;36m<module>\u001b[0;34m\u001b[0m\n\u001b[1;32m     98\u001b[0m         \u001b[0monsets\u001b[0m \u001b[0;34m=\u001b[0m \u001b[0mephys_aligner\u001b[0m\u001b[0;34m.\u001b[0m\u001b[0mA_to_B\u001b[0m\u001b[0;34m(\u001b[0m\u001b[0mreward_times\u001b[0m\u001b[0;34m)\u001b[0m\u001b[0;34m.\u001b[0m\u001b[0mastype\u001b[0m\u001b[0;34m(\u001b[0m\u001b[0mint\u001b[0m\u001b[0;34m)\u001b[0m\u001b[0;34m\u001b[0m\u001b[0;34m\u001b[0m\u001b[0m\n\u001b[1;32m     99\u001b[0m \u001b[0;34m\u001b[0m\u001b[0m\n\u001b[0;32m--> 100\u001b[0;31m         \u001b[0mreward_times\u001b[0m \u001b[0;34m=\u001b[0m \u001b[0mPC_data\u001b[0m\u001b[0;34m.\u001b[0m\u001b[0mtimes\u001b[0m\u001b[0;34m[\u001b[0m\u001b[0;34m'post_stim_wait'\u001b[0m\u001b[0;34m]\u001b[0m\u001b[0;34m[\u001b[0m\u001b[0;34m:\u001b[0m\u001b[0mnum_trials\u001b[0m\u001b[0;34m]\u001b[0m\u001b[0;34m\u001b[0m\u001b[0;34m\u001b[0m\u001b[0m\n\u001b[0m\u001b[1;32m    101\u001b[0m         \u001b[0moffsets\u001b[0m \u001b[0;34m=\u001b[0m \u001b[0mephys_aligner\u001b[0m\u001b[0;34m.\u001b[0m\u001b[0mA_to_B\u001b[0m\u001b[0;34m(\u001b[0m\u001b[0mreward_times\u001b[0m\u001b[0;34m)\u001b[0m\u001b[0;34m.\u001b[0m\u001b[0mastype\u001b[0m\u001b[0;34m(\u001b[0m\u001b[0mint\u001b[0m\u001b[0;34m)\u001b[0m\u001b[0;34m\u001b[0m\u001b[0;34m\u001b[0m\u001b[0m\n\u001b[1;32m    102\u001b[0m \u001b[0;34m\u001b[0m\u001b[0m\n",
      "\u001b[0;31mKeyError\u001b[0m: 'post_stim_wait'"
     ]
    },
    {
     "data": {
      "image/png": "[encoded data removed]",
      "text/plain": [
       "<Figure size 504x648 with 3 Axes>"
      ]
     },
     "metadata": {
      "needs_background": "light"
     },
     "output_type": "display_data"
    }
   ],
   "source": [
    "for n_folder in range(len(all_folders_names)):\n",
    "    particular_project_folder = project_file_directory + \"/\" + all_folders_names[n_folder]\n",
    "    print(particular_project_folder)\n",
    "    \n",
    "    find_for_txt_files = particular_project_folder + \"/*.txt\"\n",
    "    txt_file_full_paths = glob.glob(find_for_txt_files)\n",
    "\n",
    "    total_txt_files = len(txt_file_full_paths)\n",
    "    print(\"There are %d number of .txt files to extract data from %s folder.\" \n",
    "          %(total_txt_files, all_folders_names[n_folder]))\n",
    "\n",
    "    ns6_file_names = []\n",
    "    txt_file_names = []\n",
    "\n",
    "    for files in os.listdir(particular_project_folder):\n",
    "        # Check if the given path is a file\n",
    "        if os.path.isfile(os.path.join(particular_project_folder, files)):\n",
    "            # Check if the file ends with a \".txt\" extension\n",
    "            if files.endswith(\".ns6\"):\n",
    "                ns6_file_names.append(files)\n",
    "                \n",
    "    for files in os.listdir(particular_project_folder):\n",
    "        # Check if the given path is a file\n",
    "        if os.path.isfile(os.path.join(particular_project_folder, files)):\n",
    "            # Check if the file ends with a \".txt\" extension\n",
    "            if files.endswith(\".txt\"):\n",
    "                txt_file_names.append(files)\n",
    "    \n",
    "    # This is to ensure files do not read in an unorganized manner\n",
    "    ns6_file_names = np.sort(ns6_file_names)\n",
    "    txt_file_names = np.sort(txt_file_names)\n",
    "    \n",
    "    for n_txt_files in range(total_txt_files):\n",
    "        particular_txt_file_path = particular_project_folder + \"/\" + txt_file_names[n_txt_files]\n",
    "        \n",
    "        # Check if MUA exists within the project folder\n",
    "        file_directory_to_save_data = particular_project_folder + \"/MUA/\"\n",
    "        check_if_directory_exists(file_directory_to_save_data)\n",
    "        \n",
    "        file_directory_to_save_data = file_directory_to_save_data + ns6_file_names[n_txt_files][:-4]\n",
    "        check_if_directory_exists(file_directory_to_save_data)\n",
    "        \n",
    "        file_directory_to_save_figures = file_directory_to_save_data + \"/figures/\"\n",
    "        check_if_directory_exists(file_directory_to_save_figures)\n",
    "        \n",
    "        file_directory_to_save_data = file_directory_to_save_data + \"/allData/\"\n",
    "        check_if_directory_exists(file_directory_to_save_data)\n",
    "\n",
    "        print(\"\\nExtracting data from file path: %s\" % particular_txt_file_path)\n",
    "        PC_data = di.Session(particular_txt_file_path, int_subject_IDs=False)\n",
    "        \n",
    "        session_events= PC_data.events\n",
    "        session_times = PC_data.times\n",
    "        session_print_lines = PC_data.print_lines\n",
    "        \n",
    "        savemat(file_directory_to_save_data + \"session_events.mat\", {\"data\": session_events})\n",
    "        savemat(file_directory_to_save_data + \"session_times.mat\", {\"data\": session_times})\n",
    "        savemat(file_directory_to_save_data + \"session_print_lines.mat\", {\"data\": session_print_lines})\n",
    "        \n",
    "        # Extract data from \".txt\" file\n",
    "        rsync_PC = PC_data.times[\"rsync\"]\n",
    "        stim_active_PC = PC_data.times[\"stim_active\"]\n",
    "        \n",
    "        # Extract data from the \".nev\" saved as a \".mat\" file\n",
    "        \n",
    "        extract_nev_file_data_from = particular_project_folder + \"/MUA/\" + ns6_file_names[n_txt_files][:-4] + \"/allData/\"\n",
    "        timestamp_nev_file_directory = extract_nev_file_data_from + \"timestamp_ms_nev.mat\"\n",
    "        print(\"Extracting from %s\" %timestamp_nev_file_directory)\n",
    "        timestamp_ms_dict = loadmat(timestamp_nev_file_directory)\n",
    "        \n",
    "        timestamp_ms_nev = timestamp_ms_dict[\"timestamp_ms\"][0]\n",
    "        \n",
    "        timestamp_ms_nev = np.reshape(timestamp_ms_nev, (len(timestamp_ms_nev), ))\n",
    "        \n",
    "        if len(rsync_PC) == len(timestamp_ms_nev)/2:\n",
    "                timestamp_ms_nev = timestamp_ms_nev[0::2]\n",
    "        \n",
    "        pulse_times_PC = rsync_PC\n",
    "        pulse_timestamps_BR = timestamp_ms_nev\n",
    "        \n",
    "        try:\n",
    "            ephys_aligner = Rsync_aligner(pulse_times_A=pulse_times_PC, pulse_times_B=pulse_timestamps_BR,\n",
    "                                            units_A=\"auto\", units_B=\"auto\", plot=True)\n",
    "            \n",
    "            print(\"%s: Rsync_PC and timestamp_ms_nev shapes are fine!\" %ns6_file_names[n_txt_files][:-4])\n",
    "            print(\"Rsync has %d elements and timestamp_ms_nev has %d elements.\" \n",
    "                  %(len(rsync_PC), len(timestamp_ms_nev)))\n",
    "            \n",
    "        except:\n",
    "            print(\"!!!!!!!!!!!!!!!!!!!!!!!!!!!!!!!!!!!!!!!!!!!!!!!!!!!!!!!!!!!!\")\n",
    "            print(\"%s: Check rsync_PC and timestamp_ms_nev shapes!\" %ns6_file_names[n_txt_files][:-4])\n",
    "            print(\"Rsync has %d elements and timestamp_ms_nev has %d elements.\" \n",
    "                  %(len(rsync_PC), len(timestamp_ms_nev)))\n",
    "            print(\"!!!!!!!!!!!!!!!!!!!!!!!!!!!!!!!!!!!!!!!!!!!!!!!!!!!!!!!!!!!!\")\n",
    "            \n",
    "        num_trials = len(stim_active_PC)\n",
    "        reward_times = PC_data.times['stim_active'][:num_trials]\n",
    "        onsets = ephys_aligner.A_to_B(reward_times).astype(int)\n",
    "        \n",
    "        reward_times = PC_data.times['post_stim_wait'][:num_trials]\n",
    "        offsets = ephys_aligner.A_to_B(reward_times).astype(int)\n",
    "        \n",
    "        if onsets[0] > offsets[0]:\n",
    "            modified_onsets = onsets[:-1]\n",
    "            modified_offsets = offsets[1:]\n",
    "        \n",
    "            all_timestamp_ms = np.zeros((len(modified_onsets), 3))\n",
    "\n",
    "            all_timestamp_ms[:, 0] = modified_onsets # ms\n",
    "            all_timestamp_ms[:, 1] = modified_offsets # ms\n",
    "            \n",
    "        else:\n",
    "            all_timestamp_ms = np.zeros((len(onsets), 3))\n",
    "\n",
    "            all_timestamp_ms[:, 0] = onsets # ms\n",
    "            all_timestamp_ms[:, 1] = offsets # ms\n",
    "                \n",
    "        \n",
    "        savemat(file_directory_to_save_data + 'without_stimulation_intensity_timestamp_ms.mat', {'data': all_timestamp_ms})\n",
    "            \n",
    "    print(\"-------------------------------------------------------------------------------------------------------\")"
   ]
  },
  {
   "cell_type": "code",
   "execution_count": null,
   "id": "72b85eaf",
   "metadata": {},
   "outputs": [],
   "source": []
  }
 ],
 "metadata": {
  "kernelspec": {
   "display_name": "Python 3 (ipykernel)",
   "language": "python",
   "name": "python3"
  },
  "language_info": {
   "codemirror_mode": {
    "name": "ipython",
    "version": 3
   },
   "file_extension": ".py",
   "mimetype": "text/x-python",
   "name": "python",
   "nbconvert_exporter": "python",
   "pygments_lexer": "ipython3",
   "version": "3.10.4"
  }
 },
 "nbformat": 4,
 "nbformat_minor": 5
}
